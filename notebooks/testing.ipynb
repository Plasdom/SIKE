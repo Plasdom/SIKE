{
 "cells": [
  {
   "cell_type": "code",
   "execution_count": 1,
   "metadata": {},
   "outputs": [],
   "source": [
    "%load_ext autoreload\n",
    "%autoreload 2\n",
    "%matplotlib qt\n",
    "import sike\n",
    "import numpy as np\n",
    "import sike.analysis.post_processing as spp\n",
    "import sike.analysis.plotting as sp\n",
    "from pathlib import Path\n",
    "import matplotlib.pyplot as plt"
   ]
  },
  {
   "cell_type": "code",
   "execution_count": 2,
   "metadata": {},
   "outputs": [],
   "source": [
    "# sike.setup(elements = [\"H\"], savedir = \"..\")"
   ]
  },
  {
   "cell_type": "code",
   "execution_count": null,
   "metadata": {},
   "outputs": [],
   "source": [
    "num_x = 10\n",
    "Te = np.linspace(15.0,30.0,num_x)\n",
    "ne = 1e20*np.ones(num_x)\n",
    "el = \"Ne\"\n",
    "# vgrid = np.sqrt(2.0 * sike.utils.constants.EL_CHARGE * np.geomspace(2.5e-4,30e3,500) / sike.utils.constants.EL_MASS)\n",
    "c = sike.SIKERun(Te=Te, \n",
    "                 ne=ne, \n",
    "                 element=el, \n",
    "                 resolve_j = False, \n",
    "                 resolve_l = False, \n",
    "                 saha_boltzmann_init=False, \n",
    "                 ionization= True,\n",
    "                 excitation= True,\n",
    "                 emission= True,\n",
    "                 autoionization= True,\n",
    "                 radiative_recombination= True,\n",
    "                #  vgrid = vgrid\n",
    "                 )\n"
   ]
  },
  {
   "cell_type": "code",
   "execution_count": null,
   "metadata": {},
   "outputs": [],
   "source": [
    "# ds = c.evolve(1e6)\n",
    "ds = c.solve()"
   ]
  },
  {
   "cell_type": "code",
   "execution_count": 63,
   "metadata": {},
   "outputs": [],
   "source": [
    "# sp.plot_nz(ds,logy=False, logx=False, normalise=False)\n",
    "sp.plot_Zavg(ds)"
   ]
  },
  {
   "cell_type": "code",
   "execution_count": 53,
   "metadata": {},
   "outputs": [],
   "source": [
    "iz_trans = [t for t in c.impurity.transitions if t.type == \"ionization\"]\n",
    "rr_trans = [t for t in c.impurity.transitions if t.type == \"radiative_recombination\"]"
   ]
  },
  {
   "cell_type": "code",
   "execution_count": null,
   "metadata": {},
   "outputs": [],
   "source": [
    "rr_trans[-1].__dict__"
   ]
  },
  {
   "cell_type": "code",
   "execution_count": 51,
   "metadata": {},
   "outputs": [],
   "source": [
    "fig,ax = plt.subplots(1)\n",
    "for t in rr_trans[-1:]:\n",
    "    ax.plot(t.sigma)\n",
    "ax.set_yscale(\"log\")"
   ]
  },
  {
   "cell_type": "code",
   "execution_count": null,
   "metadata": {},
   "outputs": [],
   "source": [
    "sum([t.delta_E.sum() for t in iz_trans])"
   ]
  },
  {
   "cell_type": "code",
   "execution_count": null,
   "metadata": {},
   "outputs": [],
   "source": [
    "iz_trans[0].__dict__"
   ]
  },
  {
   "cell_type": "code",
   "execution_count": 19,
   "metadata": {},
   "outputs": [],
   "source": [
    "M = ds.M.isel(x=0).values * c.t_norm\n",
    "# np.savetxt(\"M_new.csv\",M_new)\n",
    "M_old = np.loadtxt(\"/Users/power8/Documents/05_papers/01_impurities/01_analysis/M_old.csv\")"
   ]
  },
  {
   "cell_type": "code",
   "execution_count": null,
   "metadata": {},
   "outputs": [],
   "source": [
    "M[:,0] - M_old[:,0]"
   ]
  },
  {
   "cell_type": "code",
   "execution_count": null,
   "metadata": {},
   "outputs": [],
   "source": [
    "import sike.utils\n",
    "\n",
    "num_x = 10\n",
    "Te = np.linspace(1.0,10.0,num_x)\n",
    "ne = 1e20*np.ones(num_x)\n",
    "el = \"Ne\"\n",
    "\n",
    "T_hot = 100 * np.ones(num_x)\n",
    "n_hot_frac = 0.01\n",
    "vgrid = np.geomspace(min(sike.utils.constants.EXTENDED_VGRID),max(sike.utils.constants.EXTENDED_VGRID),500)\n",
    "fe_bimax = sike.analysis.plasma_utils.get_bimaxwellians(n1=(1.0-n_hot_frac)*ne, T1=Te, n2=n_hot_frac*ne,T2=T_hot, vgrid=vgrid)\n",
    "\n",
    "c_hf = sike.SIKERun(fe=fe_bimax, vgrid=vgrid, element=el, resolve_j = False, resolve_l = False, saha_boltzmann_init=True)\n",
    "c_nhf = sike.SIKERun(Te=Te, \n",
    "                     ne=ne, \n",
    "                     element=el, \n",
    "                     resolve_j = False, \n",
    "                     resolve_l = False, \n",
    "                     saha_boltzmann_init=True)"
   ]
  },
  {
   "cell_type": "code",
   "execution_count": null,
   "metadata": {},
   "outputs": [],
   "source": [
    "# ds_hf = c_hf.evolve(1e5)\n",
    "# ds_nhf = c_nhf.evolve(1e5)\n",
    "ds_hf = c_hf.solve()\n",
    "ds_nhf = c_nhf.solve()"
   ]
  },
  {
   "cell_type": "code",
   "execution_count": 60,
   "metadata": {},
   "outputs": [],
   "source": [
    "# sp.plot_nz(ds_hf,logy=False, logx=True, normalise=False)\n",
    "# sp.plot_nz(ds_nhf,logy=False, logx=True, normalise=False)\n",
    "sp.plot_Zavg(ds_hf)\n",
    "sp.plot_Zavg(ds_nhf)"
   ]
  },
  {
   "cell_type": "code",
   "execution_count": null,
   "metadata": {},
   "outputs": [],
   "source": []
  }
 ],
 "metadata": {
  "kernelspec": {
   "display_name": "sike",
   "language": "python",
   "name": "python3"
  },
  "language_info": {
   "codemirror_mode": {
    "name": "ipython",
    "version": 3
   },
   "file_extension": ".py",
   "mimetype": "text/x-python",
   "name": "python",
   "nbconvert_exporter": "python",
   "pygments_lexer": "ipython3",
   "version": "3.11.9"
  }
 },
 "nbformat": 4,
 "nbformat_minor": 2
}
