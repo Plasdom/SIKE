{
 "cells": [
  {
   "cell_type": "code",
   "execution_count": 1,
   "metadata": {},
   "outputs": [],
   "source": [
    "%load_ext autoreload\n",
    "%autoreload 2\n",
    "%matplotlib qt\n",
    "import sike\n",
    "import numpy as np\n",
    "import sike.analysis.post_processing as spp\n",
    "import sike.analysis.plotting as sp\n",
    "from pathlib import Path"
   ]
  },
  {
   "cell_type": "code",
   "execution_count": 2,
   "metadata": {},
   "outputs": [],
   "source": [
    "# sike.setup(elements = [\"H\"], savedir = \"..\")"
   ]
  },
  {
   "cell_type": "code",
   "execution_count": null,
   "metadata": {},
   "outputs": [],
   "source": [
    "num_x = 100\n",
    "Te = np.linspace(1.0,100.0,num_x)\n",
    "ne = 1e20*np.ones(num_x)\n",
    "el = \"O\"\n",
    "# vgrid = np.sqrt(2.0 * sike.utils.constants.EL_CHARGE * np.geomspace(2.5e-4,30e3,500) / sike.utils.constants.EL_MASS)\n",
    "# c = sike.SIKERun(Te=Te, ne=ne, element=el, resolve_j = False, resolve_l = False, saha_boltzmann_init=True)\n",
    "c = sike.SIKERun(Te=Te, ne=ne, element=el, resolve_j = False, resolve_l = False, saha_boltzmann_init=True, vgrid=sike.utils.constants.DEFAULT_VGRID, atomic_data_savedir=\"/Users/power8/Documents/01_code/03_sike/SIKE/sike_atomic_data\")\n",
    "# c = sike.SIKERun(Te=Te, ne=ne, element=el, resolve_j = False, resolve_l = False, saha_boltzmann_init=True, vgrid=sike.utils.constants.EXTENDED_VGRID)\n",
    "# c = sike.SIKERun(Te=Te, ne=ne, element=el, resolve_j = False, resolve_l = False, saha_boltzmann_init=True, vgrid=vgrid)"
   ]
  },
  {
   "cell_type": "code",
   "execution_count": null,
   "metadata": {},
   "outputs": [],
   "source": [
    "ds = c.evolve(1e3)\n",
    "# ds = c.solve()"
   ]
  },
  {
   "cell_type": "code",
   "execution_count": 5,
   "metadata": {},
   "outputs": [],
   "source": [
    "sp.plot_nz(ds,logy=False, logx=True, normalise=False)\n",
    "sp.plot_Zavg(ds)\n",
    "# sp.plot_Lz(ds,logy=True, logx=True, normalise=False)"
   ]
  },
  {
   "cell_type": "code",
   "execution_count": 42,
   "metadata": {},
   "outputs": [],
   "source": [
    "sp.plot_Zavg(ds)"
   ]
  }
 ],
 "metadata": {
  "kernelspec": {
   "display_name": "sike",
   "language": "python",
   "name": "python3"
  },
  "language_info": {
   "codemirror_mode": {
    "name": "ipython",
    "version": 3
   },
   "file_extension": ".py",
   "mimetype": "text/x-python",
   "name": "python",
   "nbconvert_exporter": "python",
   "pygments_lexer": "ipython3",
   "version": "3.11.9"
  }
 },
 "nbformat": 4,
 "nbformat_minor": 2
}
