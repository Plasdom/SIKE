{
 "cells": [
  {
   "cell_type": "code",
   "execution_count": 1,
   "metadata": {},
   "outputs": [],
   "source": [
    "import sike\n",
    "import numpy as np"
   ]
  },
  {
   "cell_type": "code",
   "execution_count": null,
   "metadata": {},
   "outputs": [],
   "source": [
    "# 1. Initialise with electron temperature and density profiles\n",
    "nx = 100\n",
    "Te = np.linspace(1,10,nx)\n",
    "ne = 1e20 * np.ones(nx)\n",
    "\n",
    "c = sike.SIKERun(Te=Te, ne=ne, element=\"C\")\n",
    "ds = c.solve()\n",
    "\n",
    "sike.plotting.plot_nz(ds)"
   ]
  },
  {
   "cell_type": "code",
   "execution_count": null,
   "metadata": {},
   "outputs": [],
   "source": [
    "# 2. Initialise with electron distributions\n",
    "nx = 100\n",
    "Te = np.linspace(1,10,nx)\n",
    "ne = 1e20 * np.ones(nx)\n",
    "\n",
    "hot_frac = 0.001\n",
    "fe = sike.get_bimaxwellians(n1=hot_frac*ne,\n",
    "                            n2=(1-hot_frac)*ne,\n",
    "                            T1 = 50*np.ones(nx),\n",
    "                            T2 = Te)\n",
    "\n",
    "c = sike.SIKERun(fe, element=\"C\")\n",
    "ds = c.solve()\n",
    "\n",
    "sike.plotting.plot_nz(ds)"
   ]
  },
  {
   "cell_type": "code",
   "execution_count": null,
   "metadata": {},
   "outputs": [],
   "source": [
    "# 3. Use the evolve method to advance the solution a set timestep\n",
    "nx = 100\n",
    "Te = np.linspace(10,20,nx)\n",
    "ne = 1e20 * np.ones(nx)\n",
    "\n",
    "c = sike.SIKERun(Te=Te, ne=ne, element=\"Ne\", saha_boltzmann_init=False)\n",
    "\n",
    "ds = c.evolve(dt_s=1e-6)\n",
    "sike.plotting.plot_nz(ds)\n",
    "\n",
    "ds = c.evolve(dt_s=1e-4)\n",
    "sike.plotting.plot_nz(ds)\n",
    "\n",
    "ds = c.evolve(dt_s=1e3)\n",
    "sike.plotting.plot_nz(ds)"
   ]
  },
  {
   "cell_type": "code",
   "execution_count": null,
   "metadata": {},
   "outputs": [],
   "source": [
    "# 4. Atomic data resolved in j\n",
    "nx = 50\n",
    "Te = np.geomspace(2.0,15.0,nx)\n",
    "ne = 1e20 * np.ones(nx)\n",
    "\n",
    "c = sike.SIKERun(Te=Te, ne=ne, element=\"Li\", resolve_j = True, resolve_l = True)\n",
    "ds = c.evolve(dt_s=1e-2)\n",
    "\n",
    "sike.plotting.plot_nz(ds, logx=True)"
   ]
  },
  {
   "cell_type": "code",
   "execution_count": null,
   "metadata": {},
   "outputs": [],
   "source": [
    "# 5. Use a custom velocity grid\n",
    "E_min_ev = 1e-4\n",
    "E_max_ev = 3e4\n",
    "v_min = np.sqrt(2.0 * E_min_ev * sike.EL_CHARGE / sike.EL_MASS)\n",
    "v_max = np.sqrt(2.0 * E_max_ev * sike.EL_CHARGE / sike.EL_MASS)\n",
    "nv = 200\n",
    "vgrid = np.geomspace(v_min, v_max, nv)\n",
    "\n",
    "nx = 10\n",
    "Te = np.linspace(5,50,nx)\n",
    "ne = 1e20 * np.ones(nx)\n",
    "\n",
    "hot_frac = 0.000\n",
    "fe = sike.get_bimaxwellians(n1=hot_frac*ne,\n",
    "                            n2=(1-hot_frac)*ne,\n",
    "                            T1 = 50*np.ones(nx),\n",
    "                            T2 = Te,\n",
    "                            vgrid = vgrid)\n",
    "\n",
    "c = sike.SIKERun(fe=fe, vgrid=vgrid, element=\"W\")\n",
    "ds = c.solve()\n",
    "\n",
    "sike.plotting.plot_Zavg(ds)"
   ]
  },
  {
   "cell_type": "code",
   "execution_count": null,
   "metadata": {},
   "outputs": [],
   "source": [
    "# 6. Plot the cooling curve\n",
    "nx = 100\n",
    "Te = np.linspace(5,100,nx)\n",
    "ne = 1e20 * np.ones(nx)\n",
    "\n",
    "c = sike.SIKERun(Te=Te, ne=ne, element=\"Ne\")\n",
    "ds = c.solve()\n",
    "\n",
    "sike.plotting.plot_Lz_avg(ds)\n"
   ]
  }
 ],
 "metadata": {
  "kernelspec": {
   "display_name": "sike",
   "language": "python",
   "name": "python3"
  },
  "language_info": {
   "codemirror_mode": {
    "name": "ipython",
    "version": 3
   },
   "file_extension": ".py",
   "mimetype": "text/x-python",
   "name": "python",
   "nbconvert_exporter": "python",
   "pygments_lexer": "ipython3",
   "version": "3.11.9"
  }
 },
 "nbformat": 4,
 "nbformat_minor": 2
}
